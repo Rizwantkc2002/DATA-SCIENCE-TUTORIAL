{
 "cells": [
  {
   "cell_type": "code",
   "execution_count": 6,
   "metadata": {},
   "outputs": [],
   "source": [
    "import numpy as np  # Importing numpy for numerical operations\n",
    "import pandas as pd  # Importing pandas for data manipulation and analysis\n",
    "import matplotlib.pyplot as plt  # Importing matplotlib for plotting\n",
    "from sklearn.model_selection import train_test_split  # Importing train_test_split to split data into train and test\n"
   ]
  },
  {
   "cell_type": "code",
   "execution_count": 7,
   "metadata": {},
   "outputs": [
    {
     "name": "stdout",
     "output_type": "stream",
     "text": [
      "   Unnamed: 0     TV  radio  newspaper  sales\n",
      "0           1  230.1   37.8       69.2   22.1\n",
      "1           2   44.5   39.3       45.1   10.4\n",
      "2           3   17.2   45.9       69.3    9.3\n",
      "3           4  151.5   41.3       58.5   18.5\n",
      "4           5  180.8   10.8       58.4   12.9\n"
     ]
    }
   ],
   "source": [
    "# Load the advertising dataset\n",
    "data = pd.read_csv(\"Data/Advertising.csv\")  # Ensure the file path is correctly formatted\n",
    "\n",
    "# Display the first few rows of the dataset to understand its structure\n",
    "print(data.head())\n"
   ]
  },
  {
   "cell_type": "code",
   "execution_count": 8,
   "metadata": {},
   "outputs": [
    {
     "name": "stdout",
     "output_type": "stream",
     "text": [
      "      TV  radio  newspaper\n",
      "0  230.1   37.8       69.2\n",
      "1   44.5   39.3       45.1\n",
      "2   17.2   45.9       69.3\n",
      "3  151.5   41.3       58.5\n",
      "4  180.8   10.8       58.4\n",
      "0    22.1\n",
      "1    10.4\n",
      "2     9.3\n",
      "3    18.5\n",
      "4    12.9\n",
      "Name: sales, dtype: float64\n"
     ]
    }
   ],
   "source": [
    "# Extracting feature columns (independent variables)\n",
    "X = data[[\"TV\", \"radio\", \"newspaper\"]]  # Feature matrix containing TV, radio, and newspaper columns\n",
    "\n",
    "# Extracting the target variable (dependent variable)\n",
    "y = data[\"sales\"]  # Target variable representing sales\n",
    "\n",
    "# Show the first few rows of features and target\n",
    "print(X.head())\n",
    "print(y.head())\n"
   ]
  },
  {
   "cell_type": "code",
   "execution_count": 9,
   "metadata": {},
   "outputs": [],
   "source": [
    "# Splitting the data into training and testing sets\n",
    "X_train, X_test, y_train, y_test = train_test_split(X, y, random_state=1)  # Random state ensures reproducibility\n"
   ]
  },
  {
   "cell_type": "code",
   "execution_count": 10,
   "metadata": {},
   "outputs": [],
   "source": [
    "# Adding a bias term (intercept) to the feature matrix for training data\n",
    "X_train_bias = np.c_[np.ones(X_train.shape[0]), X_train]  # Adding a column of ones for the intercept term\n",
    "X_test_bias = np.c_[np.ones(X_test.shape[0]), X_test]  # Same for test data\n"
   ]
  },
  {
   "cell_type": "code",
   "execution_count": 11,
   "metadata": {},
   "outputs": [],
   "source": [
    "# Converting target variables to numpy arrays for matrix operations\n",
    "y_train_np = y_train.to_numpy()  # Convert y_train to numpy array\n",
    "y_test_np = y_test.to_numpy()  # Convert y_test to numpy array\n"
   ]
  },
  {
   "cell_type": "code",
   "execution_count": 12,
   "metadata": {},
   "outputs": [],
   "source": [
    "# Apply the Normal Equation to calculate regression coefficients\n",
    "beta = np.linalg.inv(X_train_bias.T @ X_train_bias) @ X_train_bias.T @ y_train_np  # Formula for beta coefficients\n"
   ]
  },
  {
   "cell_type": "code",
   "execution_count": 13,
   "metadata": {},
   "outputs": [],
   "source": [
    "# Make predictions on the training data using the learned coefficients\n",
    "y_train_pred = X_train_bias @ beta  # Predicted values for training set\n"
   ]
  },
  {
   "cell_type": "code",
   "execution_count": 14,
   "metadata": {},
   "outputs": [],
   "source": [
    "# Compute Residual Sum of Squares (RSS) and Total Sum of Squares (TSS)\n",
    "RSS = np.sum((y_train_np - y_train_pred) ** 2)  # RSS is the sum of squared residuals\n",
    "TSS = np.sum((y_train_np - y_train_np.mean()) ** 2)  # TSS is the total sum of squares\n"
   ]
  },
  {
   "cell_type": "code",
   "execution_count": 15,
   "metadata": {},
   "outputs": [],
   "source": [
    "# Calculating R-squared (R²) to evaluate the model's goodness of fit\n",
    "R_squared = 1 - (RSS / TSS)  # R² = 1 - (RSS/TSS)\n"
   ]
  },
  {
   "cell_type": "code",
   "execution_count": 16,
   "metadata": {},
   "outputs": [],
   "source": [
    "# Calculate Residual Standard Error (RSE)\n",
    "n_train, p_train = X_train_bias.shape  # n_train = number of samples, p_train = number of features (including intercept)\n",
    "RSE = np.sqrt(RSS / (n_train - p_train))  # Formula for RSE\n"
   ]
  },
  {
   "cell_type": "code",
   "execution_count": 17,
   "metadata": {},
   "outputs": [],
   "source": [
    "# Calculate the F-statistic for model evaluation\n",
    "F_stat = ((TSS - RSS) / (p_train - 1)) / (RSS / (n_train - p_train))  # Formula for F-statistic\n"
   ]
  },
  {
   "cell_type": "code",
   "execution_count": 18,
   "metadata": {},
   "outputs": [
    {
     "name": "stdout",
     "output_type": "stream",
     "text": [
      "Coefficients (beta): [2.87696662 0.04656457 0.17915812 0.00345046]\n",
      "RSS: 463.0187\n",
      "R²: 0.8903\n",
      "RSE: 1.7808\n",
      "F-statistic: 394.9981\n"
     ]
    }
   ],
   "source": [
    "# Output the results\n",
    "print(f\"Coefficients (beta): {beta}\")\n",
    "print(f\"RSS: {RSS:.4f}\")\n",
    "print(f\"R²: {R_squared:.4f}\")\n",
    "print(f\"RSE: {RSE:.4f}\")\n",
    "print(f\"F-statistic: {F_stat:.4f}\")\n"
   ]
  },
  {
   "cell_type": "code",
   "execution_count": 19,
   "metadata": {},
   "outputs": [],
   "source": [
    "# Function to perform regression and print results for a single feature\n",
    "def simple_regression(feature_column):\n",
    "    X_single = data[feature_column]  # Select one feature (e.g., TV)\n",
    "    \n",
    "    # Splitting the data\n",
    "    X_train_single, X_test_single, y_train_single, y_test_single = train_test_split(X_single, y, random_state=1)\n",
    "\n",
    "    # Reshape the feature columns to 2D arrays as required by numpy operations\n",
    "    X_train_single_reshaped = X_train_single.to_numpy().reshape(-1, 1)\n",
    "    X_test_single_reshaped = X_test_single.to_numpy().reshape(-1, 1)\n",
    "\n",
    "    # Add a column of ones (bias term) to the feature matrices\n",
    "    X_train_single_bias = np.c_[np.ones(X_train_single_reshaped.shape[0]), X_train_single_reshaped]\n",
    "    X_test_single_bias = np.c_[np.ones(X_test_single_reshaped.shape[0]), X_test_single_reshaped]\n",
    "\n",
    "    # Calculate the regression coefficients using the Normal Equation\n",
    "    beta_single = np.linalg.inv(X_train_single_bias.T @ X_train_single_bias) @ X_train_single_bias.T @ y_train_single\n",
    "    \n",
    "    # Predicting sales based on the model\n",
    "    y_train_single_pred = X_train_single_bias @ beta_single\n",
    "\n",
    "    # Compute RSS and TSS\n",
    "    RSS_single = np.sum((y_train_single - y_train_single_pred) ** 2)\n",
    "    TSS_single = np.sum((y_train_single - y_train_single.mean()) ** 2)\n",
    "\n",
    "    # Calculate R-squared (R²)\n",
    "    R_squared_single = 1 - (RSS_single / TSS_single)\n",
    "\n",
    "    # Calculate RSE\n",
    "    n_single, p_single = X_train_single_bias.shape\n",
    "    RSE_single = np.sqrt(RSS_single / (n_single - p_single))\n",
    "\n",
    "    # Calculate the F-statistic\n",
    "    F_stat_single = ((TSS_single - RSS_single) / (p_single - 1)) / (RSS_single / (n_single - p_single))\n",
    "\n",
    "    # Display the results for the single predictor\n",
    "    print(f\"Results for {feature_column}:\")\n",
    "    print(f\"Coefficients: {beta_single}\")\n",
    "    print(f\"RSS: {RSS_single:.4f}\")\n",
    "    print(f\"R²: {R_squared_single:.4f}\")\n",
    "    print(f\"RSE: {RSE_single:.4f}\")\n",
    "    print(f\"F-statistic: {F_stat_single:.4f}\")\n",
    "    print(\"\\n\")\n"
   ]
  },
  {
   "cell_type": "code",
   "execution_count": 20,
   "metadata": {},
   "outputs": [
    {
     "name": "stdout",
     "output_type": "stream",
     "text": [
      "Results for TV:\n",
      "Coefficients: [6.91197262 0.04802945]\n",
      "RSS: 1587.8472\n",
      "R²: 0.6238\n",
      "RSE: 3.2755\n",
      "F-statistic: 245.4367\n",
      "\n",
      "\n",
      "Results for radio:\n",
      "Coefficients: [9.33859455 0.19338969]\n",
      "RSS: 2937.6264\n",
      "R²: 0.3041\n",
      "RSE: 4.4552\n",
      "F-statistic: 64.6606\n",
      "\n",
      "\n",
      "Results for newspaper:\n",
      "Coefficients: [11.76557671  0.06888299]\n",
      "RSS: 3898.6081\n",
      "R²: 0.0764\n",
      "RSE: 5.1324\n",
      "F-statistic: 12.2411\n",
      "\n",
      "\n"
     ]
    }
   ],
   "source": [
    "# Running the regression for each individual predictor\n",
    "for feature in [\"TV\", \"radio\", \"newspaper\"]:\n",
    "    simple_regression(feature)\n"
   ]
  }
 ],
 "metadata": {
  "kernelspec": {
   "display_name": "Python 3",
   "language": "python",
   "name": "python3"
  },
  "language_info": {
   "codemirror_mode": {
    "name": "ipython",
    "version": 3
   },
   "file_extension": ".py",
   "mimetype": "text/x-python",
   "name": "python",
   "nbconvert_exporter": "python",
   "pygments_lexer": "ipython3",
   "version": "3.11.9"
  }
 },
 "nbformat": 4,
 "nbformat_minor": 2
}
