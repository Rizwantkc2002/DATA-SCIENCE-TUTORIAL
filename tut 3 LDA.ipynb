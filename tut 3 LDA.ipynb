{
 "cells": [
  {
   "cell_type": "code",
   "execution_count": null,
   "metadata": {},
   "outputs": [],
   "source": [
    "# Importing necessary libraries for numerical operations, data handling, and visualization\n",
    "import numpy as np  # For numerical operations\n",
    "import pandas as pd  # For handling data in DataFrame format\n",
    "import matplotlib.pyplot as plt  # For visualization (if needed)\n",
    "from sklearn.discriminant_analysis import LinearDiscriminantAnalysis as LDA  # For library-based LDA\n"
   ]
  },
  {
   "cell_type": "code",
   "execution_count": null,
   "metadata": {},
   "outputs": [],
   "source": [
    "    # Sample data: 2x2 dataset with two classes\n",
    "    # Let's create a toy dataset with two features (feature 1 and feature 2) and two classes (0 and 1)\n",
    "    X = np.array([[1, 2],  # First sample (feature 1 = 1, feature 2 = 2)\n",
    "                [2, 3],  # Second sample (feature 1 = 2, feature 2 = 3)\n",
    "                [3, 4],  # Third sample (feature 1 = 3, feature 2 = 4)\n",
    "                [6, 5],  # Fourth sample (feature 1 = 6, feature 2 = 5)\n",
    "                [7, 8],  # Fifth sample (feature 1 = 7, feature 2 = 8)\n",
    "                [8, 9]])  # Sixth sample (feature 1 = 8, feature 2 = 9)\n",
    "\n",
    "    # Class labels for each sample\n",
    "    y = np.array([0, 0, 0, 1, 1, 1])  # Class 0 for the first three samples, class 1 for the last three\n"
   ]
  },
  {
   "cell_type": "code",
   "execution_count": 3,
   "metadata": {},
   "outputs": [
    {
     "name": "stdout",
     "output_type": "stream",
     "text": [
      "LDA Coefficients: [[16.4 -7.6]]\n",
      "LDA Intercept: [-34.53333333]\n",
      "Predictions using LDA (library): [0 0 0 1 1 1]\n"
     ]
    }
   ],
   "source": [
    "# Create the LDA model using scikit-learn\n",
    "lda = LDA()\n",
    "\n",
    "# Fit the model with data X and target labels y\n",
    "lda.fit(X, y)\n",
    "\n",
    "# Print the LDA coefficients and intercept\n",
    "print(\"LDA Coefficients:\", lda.coef_)  # Coefficients learned by LDA\n",
    "print(\"LDA Intercept:\", lda.intercept_)  # Intercept learned by LDA\n",
    "\n",
    "# Predict on the same dataset\n",
    "y_pred = lda.predict(X)\n",
    "print(\"Predictions using LDA (library):\", y_pred)\n"
   ]
  },
  {
   "cell_type": "code",
   "execution_count": 4,
   "metadata": {},
   "outputs": [
    {
     "name": "stdout",
     "output_type": "stream",
     "text": [
      "Mean of Class 0: [2. 3.]\n",
      "Mean of Class 1: [7.         7.33333333]\n",
      "Overall Mean: [4.5        5.16666667]\n"
     ]
    }
   ],
   "source": [
    "# Separate the samples based on their class labels\n",
    "X_class_0 = X[y == 0]\n",
    "X_class_1 = X[y == 1]\n",
    "\n",
    "# Calculate the mean of each class\n",
    "mean_class_0 = np.mean(X_class_0, axis=0)\n",
    "mean_class_1 = np.mean(X_class_1, axis=0)\n",
    "\n",
    "# Calculate the overall mean of the entire dataset\n",
    "mean_overall = np.mean(X, axis=0)\n",
    "\n",
    "print(\"Mean of Class 0:\", mean_class_0)\n",
    "print(\"Mean of Class 1:\", mean_class_1)\n",
    "print(\"Overall Mean:\", mean_overall)\n"
   ]
  },
  {
   "cell_type": "code",
   "execution_count": 5,
   "metadata": {},
   "outputs": [
    {
     "name": "stdout",
     "output_type": "stream",
     "text": [
      "Within-Class Scatter Matrix (S_W):\n",
      " [[ 4.          6.        ]\n",
      " [ 6.         10.66666667]]\n",
      "Between-Class Scatter Matrix (S_B):\n",
      " [[12.5        10.83333333]\n",
      " [10.83333333  9.38888889]]\n"
     ]
    }
   ],
   "source": [
    "# Calculate the within-class scatter matrix (S_W)\n",
    "S_W = np.zeros((X.shape[1], X.shape[1]))\n",
    "\n",
    "# Within-class scatter matrix for class 0\n",
    "for x in X_class_0:\n",
    "    x = x.reshape(-1, 1)  # Reshape to column vector\n",
    "    mean_class_0 = mean_class_0.reshape(-1, 1)  # Reshape to column vector\n",
    "    S_W += (x - mean_class_0) @ (x - mean_class_0).T\n",
    "\n",
    "# Within-class scatter matrix for class 1\n",
    "for x in X_class_1:\n",
    "    x = x.reshape(-1, 1)  # Reshape to column vector\n",
    "    mean_class_1 = mean_class_1.reshape(-1, 1)  # Reshape to column vector\n",
    "    S_W += (x - mean_class_1) @ (x - mean_class_1).T\n",
    "\n",
    "print(\"Within-Class Scatter Matrix (S_W):\\n\", S_W)\n",
    "\n",
    "# Calculate the between-class scatter matrix (S_B)\n",
    "mean_class_0 = mean_class_0.reshape(-1, 1)\n",
    "mean_class_1 = mean_class_1.reshape(-1, 1)\n",
    "mean_overall = mean_overall.reshape(-1, 1)\n",
    "\n",
    "S_B = (mean_class_0 - mean_overall) @ (mean_class_0 - mean_overall).T + \\\n",
    "      (mean_class_1 - mean_overall) @ (mean_class_1 - mean_overall).T\n",
    "\n",
    "print(\"Between-Class Scatter Matrix (S_B):\\n\", S_B)\n"
   ]
  },
  {
   "cell_type": "code",
   "execution_count": 6,
   "metadata": {},
   "outputs": [
    {
     "name": "stdout",
     "output_type": "stream",
     "text": [
      "Eigenvalues:\n",
      " [ 6.13333333e+00 -3.55271368e-15]\n",
      "Eigenvectors:\n",
      " [[ 0.90731061 -0.65493054]\n",
      " [-0.42046101  0.75568908]]\n",
      "LDA Direction (Eigenvector corresponding to largest eigenvalue):\n",
      " [ 0.90731061 -0.42046101]\n"
     ]
    }
   ],
   "source": [
    "# Compute the inverse of the within-class scatter matrix\n",
    "S_W_inv = np.linalg.inv(S_W)\n",
    "\n",
    "# Compute the eigenvalues and eigenvectors of the matrix S_W_inv * S_B\n",
    "eigenvalues, eigenvectors = np.linalg.eig(S_W_inv @ S_B)\n",
    "\n",
    "print(\"Eigenvalues:\\n\", eigenvalues)\n",
    "print(\"Eigenvectors:\\n\", eigenvectors)\n",
    "\n",
    "# Select the eigenvector corresponding to the largest eigenvalue (LDA direction)\n",
    "lda_direction = eigenvectors[:, np.argmax(eigenvalues)]\n",
    "\n",
    "print(\"LDA Direction (Eigenvector corresponding to largest eigenvalue):\\n\", lda_direction)\n"
   ]
  },
  {
   "cell_type": "code",
   "execution_count": 7,
   "metadata": {},
   "outputs": [
    {
     "name": "stdout",
     "output_type": "stream",
     "text": [
      "Transformed Dataset (LDA projection):\n",
      " [0.06638858 0.55323817 1.04008777 3.34155858 2.98748614 3.47433574]\n"
     ]
    }
   ],
   "source": [
    "# Project the data points onto the LDA direction\n",
    "X_lda = X @ lda_direction\n",
    "\n",
    "# Print the transformed dataset\n",
    "print(\"Transformed Dataset (LDA projection):\\n\", X_lda)\n",
    "                                                                                                                                                                        "
   ]
  },
  {
   "cell_type": "code",
   "execution_count": 8,
   "metadata": {},
   "outputs": [
    {
     "name": "stdout",
     "output_type": "stream",
     "text": [
      "Predictions using Manual LDA: [1. 1. 1. 1. 1. 1.]\n",
      "Predictions using LDA (library): [0 0 0 1 1 1]\n"
     ]
    }
   ],
   "source": [
    "# Compare the results of manual LDA vs. library-based LDA\n",
    "# For simplicity, we classify the projected points based on their sign.\n",
    "# Sign of the transformed dataset will correspond to the predicted class.\n",
    "\n",
    "manual_predictions = np.sign(X_lda)  # Using sign function to get class labels\n",
    "\n",
    "print(\"Predictions using Manual LDA:\", manual_predictions)\n",
    "print(\"Predictions using LDA (library):\", y_pred)\n"
   ]
  },
  {
   "cell_type": "code",
   "execution_count": null,
   "metadata": {},
   "outputs": [],
   "source": []
  },
  {
   "cell_type": "code",
   "execution_count": null,
   "metadata": {},
   "outputs": [],
   "source": []
  },
  {
   "cell_type": "code",
   "execution_count": null,
   "metadata": {},
   "outputs": [],
   "source": []
  },
  {
   "cell_type": "code",
   "execution_count": null,
   "metadata": {},
   "outputs": [],
   "source": []
  },
  {
   "cell_type": "code",
   "execution_count": null,
   "metadata": {},
   "outputs": [],
   "source": []
  }
 ],
 "metadata": {
  "kernelspec": {
   "display_name": "Python 3",
   "language": "python",
   "name": "python3"
  },
  "language_info": {
   "codemirror_mode": {
    "name": "ipython",
    "version": 3
   },
   "file_extension": ".py",
   "mimetype": "text/x-python",
   "name": "python",
   "nbconvert_exporter": "python",
   "pygments_lexer": "ipython3",
   "version": "3.11.9"
  }
 },
 "nbformat": 4,
 "nbformat_minor": 2
}
